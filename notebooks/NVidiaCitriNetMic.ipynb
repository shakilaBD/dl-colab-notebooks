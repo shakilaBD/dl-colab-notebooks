{
  "nbformat": 4,
  "nbformat_minor": 0,
  "metadata": {
    "colab": {
      "name": "NVidiaCitriNetMic.ipynb",
      "provenance": [],
      "collapsed_sections": []
    },
    "kernelspec": {
      "name": "python3",
      "display_name": "Python 3"
    },
    "accelerator": "GPU"
  },
  "cells": [
    {
      "cell_type": "markdown",
      "metadata": {
        "id": "AqbavpcQXAly"
      },
      "source": [
        "# Speech Recognition with CitriNet\n",
        "\n",
        "This notebook uses [CitriNet](https://arxiv.org/abs/2104.01721) from the open source project [NVIDIA/NeMo](https://github.com/NVIDIA/NeMo) to transcribe a given youtube video.\n",
        "\n",
        "For other deep-learning Colab notebooks, visit [tugstugi/dl-colab-notebooks](https://github.com/tugstugi/dl-colab-notebooks).\n",
        "\n",
        "\n",
        "## Install NVIDIA/Nemo"
      ]
    },
    {
      "cell_type": "code",
      "metadata": {
        "id": "gyHl_pAPX8i2",
        "cellView": "form"
      },
      "source": [
        "#@title\n",
        "import os\n",
        "from os.path import exists, join, basename, splitext\n",
        "\n",
        "!pip -q install wget youtube-dl wget #\n",
        "!pip install -q nemo_toolkit[all]==1.2.0\n",
        "\n",
        "# we need also Apex\n",
        "if not exists('apex'):\n",
        "  !git clone -q --depth 1 https://github.com/NVIDIA/apex\n",
        "  !cd apex && pip install -q --no-cache-dir ./\n",
        "  !pip install -q https://github.com/tugstugi/dl-colab-notebooks/archive/colab_utils.zip\n",
        "\n",
        "from IPython.display import Audio, display, clear_output\n",
        "import ipywidgets as widgets\n",
        "import numpy as np\n",
        "from scipy.io import wavfile\n",
        "from dl_colab_notebooks.audio import record_audio, upload_audio"
      ],
      "execution_count": null,
      "outputs": []
    },
    {
      "cell_type": "markdown",
      "metadata": {
        "id": "RnWsQf3tca1s"
      },
      "source": [
        "## Initialize CitriNet"
      ]
    },
    {
      "cell_type": "code",
      "metadata": {
        "cellView": "form",
        "id": "2xxRSgbSbTiG"
      },
      "source": [
        "#@title\n",
        "import nemo.collections.asr as nemo_asr\n",
        "asr_model = nemo_asr.models.EncDecCTCModelBPE.from_pretrained(model_name=\"stt_en_citrinet_1024\")\n",
        "asr_model = asr_model.eval()\n",
        "\n",
        "import torch\n",
        "torch.set_grad_enabled(False)"
      ],
      "execution_count": null,
      "outputs": []
    },
    {
      "cell_type": "markdown",
      "metadata": {
        "id": "fwCAY_mbf66e"
      },
      "source": [
        "## Record or Upload Speech"
      ]
    },
    {
      "cell_type": "code",
      "metadata": {
        "id": "LMp5dQ5ZbtBU",
        "cellView": "form"
      },
      "source": [
        "#@markdown * Either record audio from microphone or upload audio from file (.mp3 or .wav) \n",
        "\n",
        "SAMPLE_RATE = 16000\n",
        "record_or_upload = \"Record\" #@param [\"Record\", \"Upload (.mp3 or .wav)\"]\n",
        "record_seconds =   10#@param {type:\"number\", min:1, max:10, step:1}\n",
        "\n",
        "def _recognize(audio):\n",
        "  display(Audio(audio, rate=SAMPLE_RATE, autoplay=True))\n",
        "  wavfile.write('test.wav', SAMPLE_RATE, (32767*audio).astype(np.int16))\n",
        "\n",
        "  print('\\n')\n",
        "  transcription = predictions = asr_model.transcribe(['test.wav'], batch_size=1)\n",
        "  print('\\n\\n')\n",
        "  print(transcription)\n",
        "\n",
        "\n",
        "def _record_audio(b):\n",
        "  clear_output()\n",
        "  audio = record_audio(record_seconds, sample_rate=SAMPLE_RATE)\n",
        "  _recognize(audio)\n",
        "def _upload_audio(b):\n",
        "  clear_output()\n",
        "  audio = upload_audio(sample_rate=SAMPLE_RATE)\n",
        "  _recognize(audio)\n",
        "\n",
        "if record_or_upload == \"Record\":\n",
        "  button = widgets.Button(description=\"Record Speech\")\n",
        "  button.on_click(_record_audio)\n",
        "  display(button)\n",
        "else:\n",
        "  _upload_audio(\"\")"
      ],
      "execution_count": null,
      "outputs": []
    }
  ]
}